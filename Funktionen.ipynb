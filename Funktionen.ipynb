{
 "cells": [
  {
   "cell_type": "markdown",
   "id": "0df1439f",
   "metadata": {},
   "source": [
    "Before you turn this problem in, make sure everything runs as expected. First, **restart the kernel** (in the menubar, select Kernel$\\rightarrow$Restart) and then **run all cells** (in the menubar, select Cell$\\rightarrow$Run All).\n",
    "\n",
    "Make sure you fill in any place that says `YOUR CODE HERE` or \"YOUR ANSWER HERE\", as well as your name and collaborators below:"
   ]
  },
  {
   "cell_type": "code",
   "execution_count": null,
   "id": "de92f4c7",
   "metadata": {},
   "outputs": [],
   "source": [
    "NAME = \"\"\n",
    "COLLABORATORS = \"\""
   ]
  },
  {
   "cell_type": "markdown",
   "id": "d7a63c8b",
   "metadata": {},
   "source": [
    "---"
   ]
  },
  {
   "cell_type": "markdown",
   "id": "aa666f7b-363e-412c-b779-36b6a26edd06",
   "metadata": {
    "deletable": false,
    "editable": false,
    "nbgrader": {
     "cell_type": "markdown",
     "checksum": "6fff8c2688fd91a88e76a2fd5c8c0414",
     "grade": false,
     "grade_id": "cell-59c64e5a8fd13595",
     "locked": true,
     "schema_version": 3,
     "solution": false,
     "task": false
    }
   },
   "source": [
    "# Funktionen\n",
    "\n",
    "Im letzten Notebook (Statements und Zuweisungen) haben wir uns mit den Grundkonzepten von Variablen und Statements befasst. Nun wollen wir uns Funktionen zuwenden. \n",
    "\n",
    "## Statements mit Parametern\n",
    "\n",
    "Betrachet das folgende Statement:"
   ]
  },
  {
   "cell_type": "code",
   "execution_count": null,
   "id": "b5cc3491-00c5-4d23-a414-9178928fb717",
   "metadata": {
    "deletable": false,
    "editable": false,
    "nbgrader": {
     "cell_type": "code",
     "checksum": "0a6162a2d78cafee8e7738d72cba2411",
     "grade": false,
     "grade_id": "cell-24c6d51793e3b926",
     "locked": true,
     "schema_version": 3,
     "solution": false,
     "task": false
    }
   },
   "outputs": [],
   "source": [
    "\"Hallo \" + name"
   ]
  },
  {
   "cell_type": "markdown",
   "id": "aac47e25-f7e2-4968-8b87-d4cef9a1a926",
   "metadata": {
    "deletable": false,
    "editable": false,
    "nbgrader": {
     "cell_type": "markdown",
     "checksum": "3d4aa5feebd4de39de76fcefae6610b1",
     "grade": false,
     "grade_id": "cell-98e3fa2a20182347",
     "locked": true,
     "schema_version": 3,
     "solution": false,
     "task": false
    }
   },
   "source": [
    "in diesem Statement wird die Variable `name` verwendet, ist diese nicht definiert kommt es zu einem Fehler. Wir nennen diese Variable einen **Parameter** des Statements, d.h. damit das Statement korrekt evaluiert werden kann muss die Variable `name` definiert sein."
   ]
  },
  {
   "cell_type": "code",
   "execution_count": null,
   "id": "adbea066-c681-4ee7-bd67-de907e9c4483",
   "metadata": {},
   "outputs": [],
   "source": [
    "name = \"YOUR NAME\"\n",
    "\"Hallo \" + name"
   ]
  },
  {
   "cell_type": "markdown",
   "id": "51af71a7-d93b-47eb-a3a0-843c78011579",
   "metadata": {
    "deletable": false,
    "editable": false,
    "nbgrader": {
     "cell_type": "markdown",
     "checksum": "ba480ea6dc9cf352a6270441de85db8f",
     "grade": false,
     "grade_id": "cell-97786577d4579360",
     "locked": true,
     "schema_version": 3,
     "solution": false,
     "task": false
    }
   },
   "source": [
    "Um sicher zustellen, dass der Parameter `name` immer definiert ist wenn wir das Statement evaluieren, weisen wir dem Statement einen eigenen Namen zu:"
   ]
  },
  {
   "cell_type": "code",
   "execution_count": null,
   "id": "a20f134e-b7cd-4bb7-83a0-9fc85564cfbc",
   "metadata": {
    "deletable": false,
    "editable": false,
    "nbgrader": {
     "cell_type": "code",
     "checksum": "3bad61df23831495683a9da1765a1335",
     "grade": false,
     "grade_id": "cell-53e4ece0db2aab5d",
     "locked": true,
     "schema_version": 3,
     "solution": false,
     "task": false
    }
   },
   "outputs": [],
   "source": [
    "def hallo(name):\n",
    "    return \"Hallo \" + name"
   ]
  },
  {
   "cell_type": "markdown",
   "id": "f65ebc5f-ccfe-447f-8fcb-f53e5161f051",
   "metadata": {
    "deletable": false,
    "editable": false,
    "nbgrader": {
     "cell_type": "markdown",
     "checksum": "f31f96b41e857c34fbc4cadcb2b93595",
     "grade": false,
     "grade_id": "cell-97f930b936994dec",
     "locked": true,
     "schema_version": 3,
     "solution": false,
     "task": false
    }
   },
   "source": [
    "**Bemerke:** Beim Evaluieren dieser Zelle gibt es keine Ausgabe\n",
    "\n",
    "Wir nennen diese Art der Zuweisung Funktions**def**inition. \n",
    "\n",
    "Nachdem evaluieren dieser Zelle können wir die eben definierte Funktion folgendermassen aufrufen und evaluieren:"
   ]
  },
  {
   "cell_type": "markdown",
   "id": "8f3be979-2e35-415c-aeed-ffb2aea3f600",
   "metadata": {
    "deletable": false,
    "editable": false,
    "nbgrader": {
     "cell_type": "markdown",
     "checksum": "39b876ed55872384ec07815ad3634d0e",
     "grade": false,
     "grade_id": "cell-4915f0cc08b414fe",
     "locked": true,
     "schema_version": 3,
     "solution": false,
     "task": false
    }
   },
   "source": [
    "Wir betrachten jetzt die Funktionsdefinition im Detail. In der ersten Zeile \n",
    "\n",
    "```\n",
    "def hallo(name)\n",
    "```\n",
    "\n",
    "weisen wir unserem vorherigen Statement `\"Hallo \" + name` den Namen `hallo` mit dem Parameter `name` zu. In der zweiten Zeile\n",
    "\n",
    "```\n",
    "    return \"Hallo \" + name\n",
    "```\n",
    "\n",
    "geben wir mit `return` unser ursprüngliches Statement zurück. Bei ist **wichtig** zu verstehen, dass wir nur in den eingerückten Zeilen auf den Parameter zugreifen können. \n",
    "\n",
    "Diese letzte Bemerkung ist **extrem** wichtig und führt am Anfang manchmal zu verwirrung. Deshalb wollen wir mit unserem nächsten Beispiel darauf eingehen:\n",
    "\n",
    "### Beispiel:\n",
    "\n",
    "Als erstes definieren wir eine neue Funktion:"
   ]
  },
  {
   "cell_type": "code",
   "execution_count": null,
   "id": "c270ec22-e741-499a-9b42-eedcee20493b",
   "metadata": {
    "deletable": false,
    "editable": false,
    "nbgrader": {
     "cell_type": "code",
     "checksum": "c07bfcc05941db372135c91b22416c1c",
     "grade": false,
     "grade_id": "cell-3268c7931772689f",
     "locked": true,
     "schema_version": 3,
     "solution": false,
     "task": false
    }
   },
   "outputs": [],
   "source": [
    "def vier_plus(summand):\n",
    "    return 4 + summand"
   ]
  },
  {
   "cell_type": "markdown",
   "id": "749bad71-7f41-4e15-9be5-5ed159b6cf37",
   "metadata": {
    "deletable": false,
    "editable": false,
    "nbgrader": {
     "cell_type": "markdown",
     "checksum": "4a66e4c45735f8ea2663dbfc4297bf98",
     "grade": false,
     "grade_id": "cell-44675794871b8cf0",
     "locked": true,
     "schema_version": 3,
     "solution": false,
     "task": false
    }
   },
   "source": [
    "nun rufen wir die Funktion mit einer beliebigen Zahl auf"
   ]
  },
  {
   "cell_type": "code",
   "execution_count": null,
   "id": "e8fbe569-2594-4130-8869-072e56c30454",
   "metadata": {
    "deletable": false,
    "editable": false,
    "nbgrader": {
     "cell_type": "code",
     "checksum": "244054c803ab4530c507d1b02bd88f5d",
     "grade": false,
     "grade_id": "cell-1d32aa9a4e417136",
     "locked": true,
     "schema_version": 3,
     "solution": false,
     "task": false
    }
   },
   "outputs": [],
   "source": [
    "zahl = 5\n",
    "vier_plus(zahl)"
   ]
  },
  {
   "cell_type": "markdown",
   "id": "a633e772-7767-402d-946a-5fb380916fea",
   "metadata": {
    "deletable": false,
    "editable": false,
    "nbgrader": {
     "cell_type": "markdown",
     "checksum": "3b53830f6871ec33864724f23010883c",
     "grade": false,
     "grade_id": "cell-22ac00a7d9448cb8",
     "locked": true,
     "schema_version": 3,
     "solution": false,
     "task": false
    }
   },
   "source": [
    "aber wir können nicht auf den Parameter zugreifen:"
   ]
  },
  {
   "cell_type": "code",
   "execution_count": null,
   "id": "fe768d3e-7624-43c7-bebf-dc4b5a61dce1",
   "metadata": {
    "deletable": false,
    "editable": false,
    "nbgrader": {
     "cell_type": "code",
     "checksum": "4d02ba3c9b44ff776ae504dff3d3b672",
     "grade": false,
     "grade_id": "cell-0945576591fb3e33",
     "locked": true,
     "schema_version": 3,
     "solution": false,
     "task": false
    },
    "tags": []
   },
   "outputs": [],
   "source": [
    "summand"
   ]
  },
  {
   "cell_type": "markdown",
   "id": "291f4a3c-268a-49d5-b48d-6a9b58aafa2e",
   "metadata": {
    "deletable": false,
    "editable": false,
    "nbgrader": {
     "cell_type": "markdown",
     "checksum": "4572b6d98bc5ed7868d1d19c421e8884",
     "grade": false,
     "grade_id": "cell-5c9d40a33360eea4",
     "locked": true,
     "schema_version": 3,
     "solution": false,
     "task": false
    }
   },
   "source": [
    "### Aufgabe\n",
    "\n",
    "Ziel ist es eine eigene Funktion zu definieren, welche eine beliebige Zahl mit sieben multipliziert. Gehe folgendermassen vor:\n",
    "\n",
    "1. Füge eine neue Zelle hinzu und weise einer Variable `zahl` eine beliebige Zahl zu\n",
    "2. Erarbeite ein Statement um `zahl` mit sieben zu multiplizieren.\n",
    "3. In einer neuen Zelle definierst du eine Funktion welche als Parameter `zahl` entgegen nimmt und dein Statement zurückgibt"
   ]
  },
  {
   "cell_type": "code",
   "execution_count": null,
   "id": "afcdeedb-d140-4598-9f0f-001b4270ea7d",
   "metadata": {},
   "outputs": [],
   "source": []
  }
 ],
 "metadata": {
  "kernelspec": {
   "display_name": "Python 3 (ipykernel)",
   "language": "python",
   "name": "python3"
  },
  "language_info": {
   "codemirror_mode": {
    "name": "ipython",
    "version": 3
   },
   "file_extension": ".py",
   "mimetype": "text/x-python",
   "name": "python",
   "nbconvert_exporter": "python",
   "pygments_lexer": "ipython3",
   "version": "3.8.9"
  }
 },
 "nbformat": 4,
 "nbformat_minor": 5
}
